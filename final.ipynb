{
 "cells": [
  {
   "cell_type": "code",
   "execution_count": 1,
   "id": "ba2dd3b0",
   "metadata": {},
   "outputs": [
    {
     "name": "stdout",
     "output_type": "stream",
     "text": [
      "0\n",
      "1\n",
      "2\n",
      "3\n",
      "4\n",
      "Condition met!\n",
      "5 not found in the dictionary!\n",
      "100\n",
      "{'key1': 'value1', 'key2': 'value2', 'key3': 'value3', 'key4': 10}\n",
      "{1, 2, 3, 4, 5}\n"
     ]
    }
   ],
   "source": [
    "global_variable = 100\n",
    "my_dict = {'key1': 'value1', 'key2': 'value2', 'key3': 'value3'}\n",
    "\n",
    "def process_numbers(numbers):\n",
    "    global global_variable \n",
    "    local_variable = 5\n",
    "    numbers = [1, 2, 3, 4, 5]\n",
    "\n",
    "    while local_variable > 0: \n",
    "        if local_variable % 2 == 0: \n",
    "            numbers.remove(local_variable)\n",
    "        local_variable -= 1\n",
    "    return numbers\n",
    "\n",
    "my_set = {1, 2, 3, 4, 5, 5, 4, 3, 2, 1}\n",
    "result = process_numbers(numbers=my_set)\n",
    "\n",
    "def modify_dict(local_variable ):\n",
    "    my_dict['key4'] = local_variable\n",
    "\n",
    "modify_dict(10)\n",
    "\n",
    "def upbate_global():\n",
    "    global global_variable\n",
    "    global_variable += 10\n",
    "\n",
    "for i in range(5):\n",
    "    print(i)\n",
    "    i += 1\n",
    "\n",
    "if my_set is not None and my_dict['key4'] == 10:\n",
    "    print(\"Condition met!\")\n",
    "\n",
    "if 5 not in my_dict:\n",
    "    print(\"5 not found in the dictionary!\")\n",
    "\n",
    "print(global_variable)\n",
    "print(my_dict)\n",
    "print(my_set)"
   ]
  },
  {
   "cell_type": "code",
   "execution_count": null,
   "id": "c23cb823",
   "metadata": {},
   "outputs": [],
   "source": []
  },
  {
   "cell_type": "code",
   "execution_count": null,
   "id": "1746383b",
   "metadata": {},
   "outputs": [],
   "source": []
  },
  {
   "cell_type": "code",
   "execution_count": null,
   "id": "57f2b7f7",
   "metadata": {},
   "outputs": [],
   "source": []
  }
 ],
 "metadata": {
  "kernelspec": {
   "display_name": "Python 3 (ipykernel)",
   "language": "python",
   "name": "python3"
  },
  "language_info": {
   "codemirror_mode": {
    "name": "ipython",
    "version": 3
   },
   "file_extension": ".py",
   "mimetype": "text/x-python",
   "name": "python",
   "nbconvert_exporter": "python",
   "pygments_lexer": "ipython3",
   "version": "3.11.5"
  }
 },
 "nbformat": 4,
 "nbformat_minor": 5
}
